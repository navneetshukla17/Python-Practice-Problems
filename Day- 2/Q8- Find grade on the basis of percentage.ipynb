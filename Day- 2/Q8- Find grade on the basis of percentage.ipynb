{
 "cells": [
  {
   "cell_type": "markdown",
   "id": "bd356a1c",
   "metadata": {},
   "source": [
    "### #8. A teacher in a school wants to find and display the grade of a student based on his/her percentage score. The criterion for grades is as given below:\n",
    "Score (both inclusive)  Grade\n",
    "\n",
    "Between 80 and 100-->      A \n",
    "\n",
    "Between 73 and 79-->       B\n",
    "\n",
    "Between 65 and 72-->       C\n",
    "\n",
    "Between 0 and 64-->        D\n",
    "\n",
    "Any other value-->         Z\n",
    "\n",
    "Assume that the percentage score is a whole number. Write a python\n",
    "program for the above requirement."
   ]
  },
  {
   "cell_type": "code",
   "execution_count": 4,
   "id": "240c1aa8",
   "metadata": {},
   "outputs": [
    {
     "name": "stdout",
     "output_type": "stream",
     "text": [
      "Enter your percentage: 45\n",
      "D Grade\n"
     ]
    }
   ],
   "source": [
    "def find_grade(percentage):\n",
    "    if percentage >= 80 and percentage <= 100:\n",
    "        return 'A Grade'\n",
    "    elif percentage >= 73 and percentage <= 79:\n",
    "        return 'B Grade'\n",
    "    elif percentage >= 65 and percentage <= 72:\n",
    "        return 'C Grade'\n",
    "    elif percentage >= 0 and percentage <= 64:\n",
    "        return 'D Grade'\n",
    "    else:\n",
    "        return 'Z Grade'\n",
    "\n",
    "# Test the function:\n",
    "percentage = int(input('Enter your percentage: '))\n",
    "print(find_grade(percentage))"
   ]
  },
  {
   "cell_type": "code",
   "execution_count": null,
   "id": "0e8986c0",
   "metadata": {},
   "outputs": [],
   "source": []
  }
 ],
 "metadata": {
  "kernelspec": {
   "display_name": "Python 3 (ipykernel)",
   "language": "python",
   "name": "python3"
  },
  "language_info": {
   "codemirror_mode": {
    "name": "ipython",
    "version": 3
   },
   "file_extension": ".py",
   "mimetype": "text/x-python",
   "name": "python",
   "nbconvert_exporter": "python",
   "pygments_lexer": "ipython3",
   "version": "3.10.12"
  }
 },
 "nbformat": 4,
 "nbformat_minor": 5
}
