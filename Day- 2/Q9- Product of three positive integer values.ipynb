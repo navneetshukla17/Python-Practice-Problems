{
 "cells": [
  {
   "cell_type": "markdown",
   "id": "83f362ee",
   "metadata": {},
   "source": [
    "### #Write a python program to find and display the product of three positive integer values based on the rule mentioned below:\n",
    "It should display the product of the three values except when one of the\n",
    "integer value is 7. In that case, 7 should not be included in the product and\n",
    "the values to its left also should not be included.\n",
    "If there is only one value to be considered, display that value itself. If no\n",
    "values can be included in the product, display -1.\n",
    "Note: Assume that if 7 is one of the positive integer values, then it will occur\n",
    "only once. Refer the sample I/O given below."
   ]
  },
  {
   "cell_type": "code",
   "execution_count": 28,
   "id": "9f893d4c",
   "metadata": {},
   "outputs": [
    {
     "name": "stdout",
     "output_type": "stream",
     "text": [
      "-1\n"
     ]
    }
   ],
   "source": [
    "# My code:\n",
    "def calculate_product(a, b, c):\n",
    "    if a == 7:\n",
    "        a = 1\n",
    "        return a * b * c\n",
    "    elif b == 7:\n",
    "        b = 1\n",
    "        a = 1\n",
    "        return a * b * c\n",
    "    elif c == 7:\n",
    "        b = 1\n",
    "        c = 1\n",
    "        return -1\n",
    "    else:\n",
    "        return a * b * c\n",
    "\n",
    "\n",
    "print(calculate_product(1, 5, 7))"
   ]
  },
  {
   "cell_type": "code",
   "execution_count": 29,
   "id": "b586f2d3",
   "metadata": {},
   "outputs": [
    {
     "name": "stdout",
     "output_type": "stream",
     "text": [
      "Enter first positive integer: 3\n",
      "Enter second positive integer: 4\n",
      "Enter third positive integer: \n"
     ]
    },
    {
     "ename": "ValueError",
     "evalue": "invalid literal for int() with base 10: ''",
     "output_type": "error",
     "traceback": [
      "\u001b[0;31m---------------------------------------------------------------------------\u001b[0m",
      "\u001b[0;31mValueError\u001b[0m                                Traceback (most recent call last)",
      "Cell \u001b[0;32mIn[29], line 15\u001b[0m\n\u001b[1;32m     13\u001b[0m a \u001b[38;5;241m=\u001b[39m \u001b[38;5;28mint\u001b[39m(\u001b[38;5;28minput\u001b[39m(\u001b[38;5;124m\"\u001b[39m\u001b[38;5;124mEnter first positive integer: \u001b[39m\u001b[38;5;124m\"\u001b[39m))\n\u001b[1;32m     14\u001b[0m b \u001b[38;5;241m=\u001b[39m \u001b[38;5;28mint\u001b[39m(\u001b[38;5;28minput\u001b[39m(\u001b[38;5;124m\"\u001b[39m\u001b[38;5;124mEnter second positive integer: \u001b[39m\u001b[38;5;124m\"\u001b[39m))\n\u001b[0;32m---> 15\u001b[0m c \u001b[38;5;241m=\u001b[39m \u001b[38;5;28;43mint\u001b[39;49m\u001b[43m(\u001b[49m\u001b[38;5;28;43minput\u001b[39;49m\u001b[43m(\u001b[49m\u001b[38;5;124;43m\"\u001b[39;49m\u001b[38;5;124;43mEnter third positive integer: \u001b[39;49m\u001b[38;5;124;43m\"\u001b[39;49m\u001b[43m)\u001b[49m\u001b[43m)\u001b[49m\n\u001b[1;32m     17\u001b[0m product \u001b[38;5;241m=\u001b[39m find_product(a, b, c)\n\u001b[1;32m     18\u001b[0m \u001b[38;5;28mprint\u001b[39m(\u001b[38;5;124m\"\u001b[39m\u001b[38;5;124mProduct:\u001b[39m\u001b[38;5;124m\"\u001b[39m, product)\n",
      "\u001b[0;31mValueError\u001b[0m: invalid literal for int() with base 10: ''"
     ]
    }
   ],
   "source": [
    "# Chatgpt code:\n",
    "def find_product(a, b, c):\n",
    "    if a == 7:\n",
    "        return b * c if b != 7 else c if c != 7 else -1\n",
    "    elif b == 7:\n",
    "        return c if c != 7 else -1\n",
    "    elif c == 7:\n",
    "        return -1\n",
    "    else:\n",
    "        return a * b * c\n",
    "\n",
    "# Test cases\n",
    "a = int(input(\"Enter first positive integer: \"))\n",
    "b = int(input(\"Enter second positive integer: \"))\n",
    "c = int(input(\"Enter third positive integer: \"))\n",
    "\n",
    "product = find_product(a, b, c)\n",
    "print(\"Product:\", product)"
   ]
  },
  {
   "cell_type": "code",
   "execution_count": null,
   "id": "736a9817",
   "metadata": {},
   "outputs": [],
   "source": []
  }
 ],
 "metadata": {
  "kernelspec": {
   "display_name": "Python 3 (ipykernel)",
   "language": "python",
   "name": "python3"
  },
  "language_info": {
   "codemirror_mode": {
    "name": "ipython",
    "version": 3
   },
   "file_extension": ".py",
   "mimetype": "text/x-python",
   "name": "python",
   "nbconvert_exporter": "python",
   "pygments_lexer": "ipython3",
   "version": "3.10.12"
  }
 },
 "nbformat": 4,
 "nbformat_minor": 5
}
