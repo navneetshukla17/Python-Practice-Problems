{
 "cells": [
  {
   "cell_type": "markdown",
   "id": "7f39b482",
   "metadata": {},
   "source": [
    "### #Write a python program that displays a message as follows for a given number:\n",
    "● If it is a multiple of three, display \"Zip\"\n",
    "\n",
    "● If it is a multiple of five, display \"Zap\".\n",
    "\n",
    "● If it is a multiple of both three and five, display \"Zoom\".\n",
    "\n",
    "● If it does not satisfy any of the above given conditions, display\n",
    "\"Invalid\".\n"
   ]
  },
  {
   "cell_type": "code",
   "execution_count": 23,
   "id": "3f409b9a",
   "metadata": {},
   "outputs": [
    {
     "name": "stdout",
     "output_type": "stream",
     "text": [
      "3- Zip\n",
      "5- Zap\n",
      "15- Zoom\n",
      "7- Invalid\n",
      "9- Zip\n",
      "10- Zap\n"
     ]
    }
   ],
   "source": [
    "def display_message(number):\n",
    "    if number % 5 == 0 and number % 3 == 0:\n",
    "        return 'Zoom'\n",
    "    elif number % 5 == 0:\n",
    "        return 'Zap'\n",
    "    elif number % 3 == 0:\n",
    "        return 'Zip'\n",
    "    else:\n",
    "        return 'Invalid'\n",
    "\n",
    "number = [3, 5, 15, 7, 9, 10]\n",
    "\n",
    "for num in number:\n",
    "    print(f'{num}- {display_message(num)}')"
   ]
  },
  {
   "cell_type": "code",
   "execution_count": null,
   "id": "04cd1ba7",
   "metadata": {},
   "outputs": [],
   "source": []
  }
 ],
 "metadata": {
  "kernelspec": {
   "display_name": "Python 3 (ipykernel)",
   "language": "python",
   "name": "python3"
  },
  "language_info": {
   "codemirror_mode": {
    "name": "ipython",
    "version": 3
   },
   "file_extension": ".py",
   "mimetype": "text/x-python",
   "name": "python",
   "nbconvert_exporter": "python",
   "pygments_lexer": "ipython3",
   "version": "3.10.12"
  }
 },
 "nbformat": 4,
 "nbformat_minor": 5
}
