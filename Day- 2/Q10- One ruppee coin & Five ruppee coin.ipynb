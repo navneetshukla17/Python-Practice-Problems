{
 "cells": [
  {
   "cell_type": "markdown",
   "id": "ca967b2e",
   "metadata": {},
   "source": [
    "### #You have x no. of 5 rupee coins and y no. of 1 rupee coins. You want to purchase an item for amount z. The shopkeeper wants you to provide exact change. You want to pay using minimum number of coins. How many 5 rupee coins and 1 rupee coins will you use? If exact change is not possible then display -1."
   ]
  },
  {
   "cell_type": "code",
   "execution_count": null,
   "id": "62369838",
   "metadata": {},
   "outputs": [],
   "source": [
    "def chiller_jaadu(price, fives, ones):\n",
    "    remaining_fives, remaining_ones = fives, ones\n",
    "    \n",
    "    fives_required, ones_required = price // 5, price % 5\n",
    "    \n",
    "    # For five rupee coins\n",
    "    if remaining_fives < fives_required:\n",
    "        ones_required += 5 * (fives_required - remaining_fives)\n",
    "        remainig_fives = 0\n",
    "    else:\n",
    "        remaining_fives -= fives_required\n",
    "    \n",
    "    # For one rupee coins\n",
    "    if remaining_ones < ones_required:\n",
    "        return -1\n",
    "    else:\n",
    "        remaining_ones -= ones_required\n",
    "    \n",
    "    return f'Fives: {fives - remaining_fives}\\nOnes: {ones - remaining_ones}'\n",
    "\n",
    "price, fives, ones = float(input('Price: ')), int(input('Five rupee coins: ')), int(input('One rupee coins: '))\n",
    "print(chiller_jaadu(price,fives, ones))"
   ]
  },
  {
   "cell_type": "code",
   "execution_count": null,
   "id": "9ad23ca3",
   "metadata": {},
   "outputs": [],
   "source": []
  }
 ],
 "metadata": {
  "kernelspec": {
   "display_name": "Python 3 (ipykernel)",
   "language": "python",
   "name": "python3"
  },
  "language_info": {
   "codemirror_mode": {
    "name": "ipython",
    "version": 3
   },
   "file_extension": ".py",
   "mimetype": "text/x-python",
   "name": "python",
   "nbconvert_exporter": "python",
   "pygments_lexer": "ipython3",
   "version": "3.10.12"
  }
 },
 "nbformat": 4,
 "nbformat_minor": 5
}
