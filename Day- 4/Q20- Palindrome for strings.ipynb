{
 "cells": [
  {
   "cell_type": "markdown",
   "id": "36979fa1",
   "metadata": {},
   "source": [
    "Write a function, check_palindrome() to check whether the given string\n",
    "is a palindrome or not. The function should return true if it is a palindrome\n",
    "else it should return false.\n",
    "\n",
    "Note: Initialize the string with various values and test your program. Assume\n",
    "that all the letters in the given string are all of the same case. Example:\n",
    "MAN, civic, WOW etc."
   ]
  },
  {
   "cell_type": "code",
   "execution_count": 20,
   "id": "fc0b9bd6",
   "metadata": {},
   "outputs": [
    {
     "name": "stdout",
     "output_type": "stream",
     "text": [
      "MAN:False\n",
      "civic:True\n",
      "WOW:True\n",
      "python:False\n",
      "level:True\n",
      "notapalindrome:False\n"
     ]
    }
   ],
   "source": [
    "def check_palindrom(string):\n",
    "    reversed_string = string[::-1]\n",
    "    return reversed_string == string\n",
    "\n",
    "\n",
    "# Test cases:\n",
    "test_cases = [\"MAN\", \"civic\", \"WOW\", \"python\", \"level\", \"notapalindrome\"]\n",
    "for test_case in test_cases:\n",
    "    result = check_palindrom(test_case)\n",
    "    print(f'{test_case}:{result}')"
   ]
  },
  {
   "cell_type": "code",
   "execution_count": null,
   "id": "74c0cc9c",
   "metadata": {},
   "outputs": [],
   "source": []
  }
 ],
 "metadata": {
  "kernelspec": {
   "display_name": "Python 3 (ipykernel)",
   "language": "python",
   "name": "python3"
  },
  "language_info": {
   "codemirror_mode": {
    "name": "ipython",
    "version": 3
   },
   "file_extension": ".py",
   "mimetype": "text/x-python",
   "name": "python",
   "nbconvert_exporter": "python",
   "pygments_lexer": "ipython3",
   "version": "3.10.12"
  }
 },
 "nbformat": 4,
 "nbformat_minor": 5
}
