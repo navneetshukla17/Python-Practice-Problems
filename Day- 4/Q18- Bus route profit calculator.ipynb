{
 "cells": [
  {
   "cell_type": "markdown",
   "id": "c39dbb7f",
   "metadata": {},
   "source": [
    "Write a function to calculate and return the profit earned (Rs) in each route.\n",
    "Return -1 in case of loss.\n",
    "\n",
    "Assume that the following information are given:\n",
    "Price per litre of fuel = 70\n",
    "Mileage of the bus in km/litre of fuel = 10\n",
    "Price(Rs) per ticket = 80"
   ]
  },
  {
   "cell_type": "code",
   "execution_count": 9,
   "id": "54a12c69",
   "metadata": {},
   "outputs": [
    {
     "name": "stdout",
     "output_type": "stream",
     "text": [
      "Total Profit Earned From Route-1: RS.2850.0\n"
     ]
    }
   ],
   "source": [
    "def calculate_profit(distance, passengers):\n",
    "    # Constants\n",
    "    price_per_litre = 70\n",
    "    mileage = 10\n",
    "    price_per_ticket = 80\n",
    "    \n",
    "    # Calculate fuel cost for a givn distance\n",
    "    fuel_cost = (distance / mileage) * price_per_litre\n",
    "    \n",
    "    # Calcualte revenue from ticket sales\n",
    "    revenue = passengers * price_per_ticket\n",
    "    \n",
    "    # Calcualte profit\n",
    "    profit = revenue - fuel_cost\n",
    "    \n",
    "    # Check if there is a profit OR loss\n",
    "    if profit >= 0:\n",
    "        return profit\n",
    "    else:\n",
    "        return -1\n",
    "    \n",
    "# Example usage:\n",
    "distance_route_1 = 50\n",
    "passengers_route_1 = 40\n",
    "profit_route_1 = calculate_profit(distance_route_1, passengers_route_1)\n",
    "print(f'Total Profit Earned From Route-1: RS.{profit_route_1}')"
   ]
  },
  {
   "cell_type": "code",
   "execution_count": null,
   "id": "a8587565",
   "metadata": {},
   "outputs": [],
   "source": []
  }
 ],
 "metadata": {
  "kernelspec": {
   "display_name": "Python 3 (ipykernel)",
   "language": "python",
   "name": "python3"
  },
  "language_info": {
   "codemirror_mode": {
    "name": "ipython",
    "version": 3
   },
   "file_extension": ".py",
   "mimetype": "text/x-python",
   "name": "python",
   "nbconvert_exporter": "python",
   "pygments_lexer": "ipython3",
   "version": "3.10.12"
  }
 },
 "nbformat": 4,
 "nbformat_minor": 5
}
