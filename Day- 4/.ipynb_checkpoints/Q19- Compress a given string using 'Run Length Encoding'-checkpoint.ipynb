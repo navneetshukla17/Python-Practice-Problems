{
 "cells": [
  {
   "cell_type": "code",
   "execution_count": 35,
   "id": "1941ad8f",
   "metadata": {},
   "outputs": [
    {
     "name": "stdout",
     "output_type": "stream",
     "text": [
      "Input: AAAABBBBCCCCCCCC\n",
      "Output: 4A4B8C\n",
      "Input: AABCCAABBCA\n",
      "Output: 2A1B2C2A2B1C1A\n",
      "Input: ABBCCCDDDDEEEEE\n",
      "Output: 1A2B3C4D5E\n"
     ]
    }
   ],
   "source": [
    "def run_length_encoding(string):\n",
    "    if not string:\n",
    "        return ''\n",
    "    \n",
    "    encoded_string = ''\n",
    "    curr_char = string[0]\n",
    "    count = 1\n",
    "    for next_char in string[1:]:\n",
    "        if curr_char == next_char:\n",
    "            count += 1\n",
    "        else:\n",
    "            encoded_string += str(count) + curr_char\n",
    "            count = 1\n",
    "            curr_char = next_char\n",
    "    \n",
    "    encoded_string += str(count) + curr_char\n",
    "    return encoded_string\n",
    "\n",
    "\n",
    "# Test cases\n",
    "test_cases = [\"AAAABBBBCCCCCCCC\", \"AABCCAABBCA\", \"ABBCCCDDDDEEEEE\"]\n",
    "for test_case in test_cases:\n",
    "    print(\"Input:\", test_case)\n",
    "    print(\"Output:\", run_length_encoding(test_case))"
   ]
  },
  {
   "cell_type": "code",
   "execution_count": null,
   "id": "2db3b3c3",
   "metadata": {},
   "outputs": [],
   "source": []
  }
 ],
 "metadata": {
  "kernelspec": {
   "display_name": "Python 3 (ipykernel)",
   "language": "python",
   "name": "python3"
  },
  "language_info": {
   "codemirror_mode": {
    "name": "ipython",
    "version": 3
   },
   "file_extension": ".py",
   "mimetype": "text/x-python",
   "name": "python",
   "nbconvert_exporter": "python",
   "pygments_lexer": "ipython3",
   "version": "3.10.12"
  }
 },
 "nbformat": 4,
 "nbformat_minor": 5
}
