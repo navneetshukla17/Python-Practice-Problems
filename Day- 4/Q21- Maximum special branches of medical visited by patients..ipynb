{
 "cells": [
  {
   "cell_type": "code",
   "execution_count": 1,
   "id": "772a930c",
   "metadata": {},
   "outputs": [
    {
     "name": "stdout",
     "output_type": "stream",
     "text": [
      "Pediatrics\n"
     ]
    }
   ],
   "source": [
    "def max_visited_speciality(patients_visited):\n",
    "    # Dictionary to map speciality codes to names\n",
    "    specialites = {\n",
    "     'P':'Pediatrics',\n",
    "     'O':'Orthopedics',\n",
    "     'E':'ENT'\n",
    "    }\n",
    "    \n",
    "    # Dictionary to count the number of visits per speciality \n",
    "    visit_count = {\n",
    "        'P':0,\n",
    "        'O':0,\n",
    "        'E':0\n",
    "    }\n",
    "    \n",
    "    # Iterate over the patients_visited and count the visits for each speciality\n",
    "    for i in range(1, len(patients_visited), 2):\n",
    "        speciality = patients_visited[i]\n",
    "        if speciality in visit_count:\n",
    "            visit_count[speciality] += 1\n",
    "    \n",
    "    # Find the speciality with the maximun visits\n",
    "    max_speciality = max(visit_count, key=visit_count.get)\n",
    "    \n",
    "    # Return the name of the speciality with the maximum visits\n",
    "    return specialites[max_speciality]\n",
    "\n",
    "\n",
    "# Test cases:\n",
    "patient_visits1 = [101, \"P\", 102, \"O\", 302, \"P\", 305, \"P\"]\n",
    "print(max_visited_speciality(patient_visits1))  # Expected Output: Pediatrics"
   ]
  },
  {
   "cell_type": "code",
   "execution_count": null,
   "id": "590e49c0",
   "metadata": {},
   "outputs": [],
   "source": []
  }
 ],
 "metadata": {
  "kernelspec": {
   "display_name": "Python 3 (ipykernel)",
   "language": "python",
   "name": "python3"
  },
  "language_info": {
   "codemirror_mode": {
    "name": "ipython",
    "version": 3
   },
   "file_extension": ".py",
   "mimetype": "text/x-python",
   "name": "python",
   "nbconvert_exporter": "python",
   "pygments_lexer": "ipython3",
   "version": "3.10.12"
  }
 },
 "nbformat": 4,
 "nbformat_minor": 5
}
