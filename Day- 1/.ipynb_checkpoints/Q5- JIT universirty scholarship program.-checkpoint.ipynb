{
 "cells": [
  {
   "cell_type": "markdown",
   "id": "ef8c90e3",
   "metadata": {},
   "source": [
    "### # JIT University offering degree courses to students has decided to provide scholarship based on the following details: using this formula amount=course fee * (scholarship%) Final fee= course fee - scholarship amount"
   ]
  },
  {
   "cell_type": "code",
   "execution_count": 1,
   "id": "e459aa2e",
   "metadata": {},
   "outputs": [
    {
     "name": "stdout",
     "output_type": "stream",
     "text": [
      "           ------Welcome to JIT University Scholarship Program------\n",
      "\n",
      "\n",
      "     (You can check if you are eligible to get a Scholarship from JIT University.) \n",
      "\n",
      "                      By entering the following details:\n",
      "                              1. Branch Of Study\n",
      "                              2. Score Obtained (In %)\n",
      "                              3. Course Fees (In which you are enrolled)\n",
      "\n",
      "Enter your branch of study (1 for Engineering, 2 for Arts): 2\n",
      "Enter your score (%): 33636\n",
      "Enter your course fee: 42525\n",
      "21262.5\n"
     ]
    }
   ],
   "source": [
    "def calculate_final_fee(branch, score, course_fee):\n",
    "    # Check for Engineering\n",
    "    if branch == 'Engineering' and score > 85:\n",
    "        scholarship_percent = 50\n",
    "    elif branch == 'Engineering' and score % 7 == 0:\n",
    "        scholarship_percent = 5\n",
    "    else:\n",
    "        scholarship_percent = 0\n",
    "    # Check for Arts\n",
    "    if branch == 'Arts' and score >= 90:\n",
    "        scholarship_percent = 50\n",
    "    elif branch == 'Arts' and score % 2 != 0:\n",
    "        scholarship_percent = 5\n",
    "    else:\n",
    "        scholarship_percent = 0\n",
    "    \n",
    "    # calculate final fee\n",
    "    scholarship_amount = course_fee * (scholarship_percent / 100)\n",
    "    final_fee = course_fee - scholarship_amount\n",
    "    return final_fee\n",
    "\n",
    "def main():\n",
    "    print('           ------Welcome to JIT University Scholarship Program------')\n",
    "    print()\n",
    "    print()\n",
    "    print('     (You can check if you are eligible to get a Scholarship from JIT University.) ')\n",
    "    print()\n",
    "    print('''                      By entering the following details:\n",
    "                              1. Branch Of Study\n",
    "                              2. Score Obtained (In %)\n",
    "                              3. Course Fees (In which you are enrolled)''')\n",
    "    print()\n",
    "    branch = int(input('Enter your branch of study (1 for Engineering, 2 for Arts): '))\n",
    "    if branch == 1:\n",
    "        branch = 'Engineering'\n",
    "    elif branch == 2:\n",
    "        branch = 'Arts'\n",
    "    else:\n",
    "        print('Invalid Input!')\n",
    "        exit()\n",
    "    score = float(input('Enter your score (%): '))\n",
    "    course_fee = float(input('Enter your course fee: '))\n",
    "    \n",
    "    final_fee = calculate_final_fee(branch, score, course_fee)\n",
    "    print(f'{final_fee}')\n",
    "\n",
    "    \n",
    "if __name__ == '__main__':\n",
    "    main()"
   ]
  },
  {
   "cell_type": "code",
   "execution_count": null,
   "id": "8b0a14a6",
   "metadata": {},
   "outputs": [],
   "source": []
  }
 ],
 "metadata": {
  "kernelspec": {
   "display_name": "Python 3 (ipykernel)",
   "language": "python",
   "name": "python3"
  },
  "language_info": {
   "codemirror_mode": {
    "name": "ipython",
    "version": 3
   },
   "file_extension": ".py",
   "mimetype": "text/x-python",
   "name": "python",
   "nbconvert_exporter": "python",
   "pygments_lexer": "ipython3",
   "version": "3.10.12"
  }
 },
 "nbformat": 4,
 "nbformat_minor": 5
}
