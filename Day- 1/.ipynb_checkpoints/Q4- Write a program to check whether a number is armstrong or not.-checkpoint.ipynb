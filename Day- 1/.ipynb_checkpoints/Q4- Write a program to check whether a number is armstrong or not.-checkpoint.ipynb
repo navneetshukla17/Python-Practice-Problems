{
 "cells": [
  {
   "cell_type": "markdown",
   "id": "111d0088",
   "metadata": {},
   "source": [
    "### #Write a program to check whether a number is armstrong or not."
   ]
  },
  {
   "cell_type": "code",
   "execution_count": 1,
   "id": "5e6986ad",
   "metadata": {},
   "outputs": [
    {
     "name": "stdout",
     "output_type": "stream",
     "text": [
      "Enter a number: 5232\n",
      "5232 is not an Armstrong number!\n"
     ]
    }
   ],
   "source": [
    "# Method:1\n",
    "\n",
    "try:\n",
    "    num = input('Enter a number: ')\n",
    "    chk = int(num)\n",
    "    l = len(num)\n",
    "    \n",
    "    sum = 0\n",
    "    for digit in num:\n",
    "        sum += int(digit) ** l\n",
    "except ValueError as e:\n",
    "    print('Invalid Input!')\n",
    "    print(e)\n",
    "\n",
    "if sum == chk:\n",
    "    print(f'{num} is an Armstrong number.')\n",
    "else:\n",
    "    print(f'{num} is not an Armstrong number!')"
   ]
  },
  {
   "cell_type": "code",
   "execution_count": 2,
   "id": "ebe3f887",
   "metadata": {},
   "outputs": [
    {
     "name": "stdout",
     "output_type": "stream",
     "text": [
      "Enter a number: 370\n"
     ]
    },
    {
     "ename": "TypeError",
     "evalue": "'int' object is not callable",
     "output_type": "error",
     "traceback": [
      "\u001b[0;31m---------------------------------------------------------------------------\u001b[0m",
      "\u001b[0;31mTypeError\u001b[0m                                 Traceback (most recent call last)",
      "Cell \u001b[0;32mIn[2], line 15\u001b[0m\n\u001b[1;32m     13\u001b[0m \u001b[38;5;66;03m# Test the function\u001b[39;00m\n\u001b[1;32m     14\u001b[0m num \u001b[38;5;241m=\u001b[39m \u001b[38;5;28mint\u001b[39m(\u001b[38;5;28minput\u001b[39m(\u001b[38;5;124m'\u001b[39m\u001b[38;5;124mEnter a number: \u001b[39m\u001b[38;5;124m'\u001b[39m))\n\u001b[0;32m---> 15\u001b[0m \u001b[38;5;28;01mif\u001b[39;00m \u001b[43mis_armstrong\u001b[49m\u001b[43m(\u001b[49m\u001b[43mnum\u001b[49m\u001b[43m)\u001b[49m:\n\u001b[1;32m     16\u001b[0m     \u001b[38;5;28mprint\u001b[39m(\u001b[38;5;124mf\u001b[39m\u001b[38;5;124m'\u001b[39m\u001b[38;5;132;01m{\u001b[39;00mnum\u001b[38;5;132;01m}\u001b[39;00m\u001b[38;5;124m is an Armstrong number\u001b[39m\u001b[38;5;124m'\u001b[39m)\n\u001b[1;32m     17\u001b[0m \u001b[38;5;28;01melse\u001b[39;00m:\n",
      "Cell \u001b[0;32mIn[2], line 8\u001b[0m, in \u001b[0;36mis_armstrong\u001b[0;34m(num)\u001b[0m\n\u001b[1;32m      5\u001b[0m num_digits \u001b[38;5;241m=\u001b[39m \u001b[38;5;28mlen\u001b[39m(num_str)\n\u001b[1;32m      7\u001b[0m \u001b[38;5;66;03m# Calculate sum of digits raised to the power of number of digits\u001b[39;00m\n\u001b[0;32m----> 8\u001b[0m armstrong_sum \u001b[38;5;241m=\u001b[39m \u001b[38;5;28;43msum\u001b[39;49m\u001b[43m(\u001b[49m\u001b[38;5;28;43mint\u001b[39;49m\u001b[43m(\u001b[49m\u001b[43mdigit\u001b[49m\u001b[43m)\u001b[49m\u001b[43m \u001b[49m\u001b[38;5;241;43m*\u001b[39;49m\u001b[38;5;241;43m*\u001b[39;49m\u001b[43m \u001b[49m\u001b[43mnum_digits\u001b[49m\u001b[43m \u001b[49m\u001b[38;5;28;43;01mfor\u001b[39;49;00m\u001b[43m \u001b[49m\u001b[43mdigit\u001b[49m\u001b[43m \u001b[49m\u001b[38;5;129;43;01min\u001b[39;49;00m\u001b[43m \u001b[49m\u001b[43mnum_str\u001b[49m\u001b[43m)\u001b[49m \n\u001b[1;32m     10\u001b[0m \u001b[38;5;66;03m# check if the number is Armstrong\u001b[39;00m\n\u001b[1;32m     11\u001b[0m \u001b[38;5;28;01mreturn\u001b[39;00m armstrong_sum \u001b[38;5;241m==\u001b[39m num\n",
      "\u001b[0;31mTypeError\u001b[0m: 'int' object is not callable"
     ]
    }
   ],
   "source": [
    "# method: 2\n",
    "def is_armstrong(num):\n",
    "    # Count number of digits\n",
    "    num_str = str(num)\n",
    "    num_digits = len(num_str)\n",
    "    \n",
    "    # Calculate sum of digits raised to the power of number of digits\n",
    "    armstrong_sum = sum(int(digit) ** num_digits for digit in num_str) \n",
    "    \n",
    "    # check if the number is Armstrong\n",
    "    return armstrong_sum == num\n",
    "\n",
    "# Test the function\n",
    "num = int(input('Enter a number: '))\n",
    "if is_armstrong(num):\n",
    "    print(f'{num} is an Armstrong number')\n",
    "else:\n",
    "    print(f'{num} is not an Armstrong number!')"
   ]
  },
  {
   "cell_type": "code",
   "execution_count": null,
   "id": "5dfe76f0",
   "metadata": {},
   "outputs": [],
   "source": []
  }
 ],
 "metadata": {
  "kernelspec": {
   "display_name": "Python 3 (ipykernel)",
   "language": "python",
   "name": "python3"
  },
  "language_info": {
   "codemirror_mode": {
    "name": "ipython",
    "version": 3
   },
   "file_extension": ".py",
   "mimetype": "text/x-python",
   "name": "python",
   "nbconvert_exporter": "python",
   "pygments_lexer": "ipython3",
   "version": "3.10.12"
  }
 },
 "nbformat": 4,
 "nbformat_minor": 5
}
