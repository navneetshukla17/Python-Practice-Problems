{
 "cells": [
  {
   "cell_type": "markdown",
   "id": "cda3508f",
   "metadata": {},
   "source": [
    "### #The flight ticket rates for a round-trip (Mumbai->Dubai) were as follows:\n",
    "● Rate per Adult: Rs. 37550.0\n",
    "\n",
    "● Rate per Child: 1/3rd of the rate per adult\n",
    "\n",
    "● Service Tax: 7% of the ticket amount (including all passengers)\n",
    "\n",
    "● As it was a holiday season, the airline also offered a 10%\n",
    "discount on the final ticket cost (after inclusion of the service\n",
    "tax).\n",
    "\n",
    "● Find and display the total ticket cost for a group which had\n",
    "adults and children."
   ]
  },
  {
   "cell_type": "code",
   "execution_count": 9,
   "id": "961df64e",
   "metadata": {},
   "outputs": [
    {
     "name": "stdout",
     "output_type": "stream",
     "text": [
      "Total Ticket Cost After 10% Of Discount: RS.84374.85\n"
     ]
    }
   ],
   "source": [
    "# Given data\n",
    "rate_per_adult = 37550.0\n",
    "rate_per_children = rate_per_adult / 3\n",
    "service_tax = 0.07\n",
    "discount_rate = 0.10\n",
    "\n",
    "def total_ticket_cost(num_adults, num_children):\n",
    "    # Calculate indiviual costs\n",
    "    adult_cost = rate_per_adult * num_adults\n",
    "    children_cost = rate_per_children * num_children\n",
    "    \n",
    "    # Calculate totoal cost before tax\n",
    "    total_cost_before_tax = adult_cost + children_cost\n",
    "    \n",
    "    # Apply service tax\n",
    "    total_cost_after_tax = total_cost_before_tax * (1 + service_tax)\n",
    "    \n",
    "    # Apply discount\n",
    "    total_cost_after_discount = total_cost_after_tax * (1 - discount_rate)\n",
    "    \n",
    "    return total_cost_after_discount\n",
    "\n",
    "\n",
    "# Example: For 2 adults and 1 Children\n",
    "total_cost = total_ticket_cost(2, 1)\n",
    "print(f'Total Ticket Cost After 10% Of Discount: RS.{total_cost}')"
   ]
  },
  {
   "cell_type": "code",
   "execution_count": null,
   "id": "c540ff54",
   "metadata": {},
   "outputs": [],
   "source": []
  }
 ],
 "metadata": {
  "kernelspec": {
   "display_name": "Python 3 (ipykernel)",
   "language": "python",
   "name": "python3"
  },
  "language_info": {
   "codemirror_mode": {
    "name": "ipython",
    "version": 3
   },
   "file_extension": ".py",
   "mimetype": "text/x-python",
   "name": "python",
   "nbconvert_exporter": "python",
   "pygments_lexer": "ipython3",
   "version": "3.10.12"
  }
 },
 "nbformat": 4,
 "nbformat_minor": 5
}
