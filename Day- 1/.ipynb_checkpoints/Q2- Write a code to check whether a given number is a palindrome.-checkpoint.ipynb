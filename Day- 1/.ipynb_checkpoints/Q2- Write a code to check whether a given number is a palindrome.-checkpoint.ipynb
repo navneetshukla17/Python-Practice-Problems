{
 "cells": [
  {
   "cell_type": "markdown",
   "id": "402dda63",
   "metadata": {},
   "source": [
    "### #Write a code to check whether a given number is a palindrome."
   ]
  },
  {
   "cell_type": "code",
   "execution_count": 1,
   "id": "362b12b1",
   "metadata": {},
   "outputs": [
    {
     "name": "stdout",
     "output_type": "stream",
     "text": [
      "12321 is a Palindrome number.\n"
     ]
    }
   ],
   "source": [
    "def is_palindrome(num):\n",
    "    # convert integer into string for easy comparision\n",
    "    num_str = str(num)\n",
    "    \n",
    "    if num_str == num_str[::-1]:\n",
    "        return True\n",
    "    else:\n",
    "        return False\n",
    "\n",
    "\n",
    "# Example usage:\n",
    "num = 12321\n",
    "if is_palindrome(num):\n",
    "    print(f'{num} is a Palindrome number.')\n",
    "else:\n",
    "    print(f'{num} is not a Palindrome number!')"
   ]
  },
  {
   "cell_type": "code",
   "execution_count": null,
   "id": "580bb080",
   "metadata": {},
   "outputs": [],
   "source": []
  }
 ],
 "metadata": {
  "kernelspec": {
   "display_name": "Python 3 (ipykernel)",
   "language": "python",
   "name": "python3"
  },
  "language_info": {
   "codemirror_mode": {
    "name": "ipython",
    "version": 3
   },
   "file_extension": ".py",
   "mimetype": "text/x-python",
   "name": "python",
   "nbconvert_exporter": "python",
   "pygments_lexer": "ipython3",
   "version": "3.10.12"
  }
 },
 "nbformat": 4,
 "nbformat_minor": 5
}
