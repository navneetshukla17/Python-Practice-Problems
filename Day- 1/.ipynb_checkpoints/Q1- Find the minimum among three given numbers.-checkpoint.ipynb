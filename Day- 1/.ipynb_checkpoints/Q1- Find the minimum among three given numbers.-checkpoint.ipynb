{
 "cells": [
  {
   "cell_type": "markdown",
   "id": "d42cfa6a",
   "metadata": {},
   "source": [
    "###  #Write a code to find the minimum among three given numbers.\n"
   ]
  },
  {
   "cell_type": "code",
   "execution_count": 1,
   "id": "ff134a31",
   "metadata": {},
   "outputs": [
    {
     "name": "stdout",
     "output_type": "stream",
     "text": [
      "1\n"
     ]
    }
   ],
   "source": [
    "# method 1\n",
    "nums = [1, 2, 3]\n",
    "print(min(nums))"
   ]
  },
  {
   "cell_type": "code",
   "execution_count": 2,
   "id": "059a51a4",
   "metadata": {},
   "outputs": [
    {
     "data": {
      "text/plain": [
       "1"
      ]
     },
     "execution_count": 2,
     "metadata": {},
     "output_type": "execute_result"
    }
   ],
   "source": [
    "# method 2\n",
    "from functools import reduce\n",
    "\n",
    "nums = [1, 2, 3]\n",
    "reduce(lambda x, y: x if x<y else y, nums)"
   ]
  },
  {
   "cell_type": "code",
   "execution_count": 3,
   "id": "79f163d6",
   "metadata": {},
   "outputs": [
    {
     "name": "stdout",
     "output_type": "stream",
     "text": [
      "Enter a list of integers separated by spaces: 1 2 3 4\n",
      "Smallest number form the list is: 1\n"
     ]
    }
   ],
   "source": [
    "# method 3\n",
    "def find_min():\n",
    "    # Input from user as a string\n",
    "    user_input = input('Enter a list of integers separated by spaces: ')\n",
    "    \n",
    "    while user_input == '':\n",
    "        print('Input field can not be empty!')\n",
    "        user_input = input('Enter a list of integers separated by spaces: ')\n",
    "   \n",
    "    # Convert string into integer and put inside a list\n",
    "    list_input = list(map(int, user_input.split()))\n",
    "    return min(list_input)\n",
    "\n",
    "user_input = find_min()\n",
    "print(f'Smallest number form the list is: {user_input}')"
   ]
  },
  {
   "cell_type": "code",
   "execution_count": null,
   "id": "39c91795",
   "metadata": {},
   "outputs": [],
   "source": []
  }
 ],
 "metadata": {
  "kernelspec": {
   "display_name": "Python 3 (ipykernel)",
   "language": "python",
   "name": "python3"
  },
  "language_info": {
   "codemirror_mode": {
    "name": "ipython",
    "version": 3
   },
   "file_extension": ".py",
   "mimetype": "text/x-python",
   "name": "python",
   "nbconvert_exporter": "python",
   "pygments_lexer": "ipython3",
   "version": "3.10.12"
  }
 },
 "nbformat": 4,
 "nbformat_minor": 5
}
