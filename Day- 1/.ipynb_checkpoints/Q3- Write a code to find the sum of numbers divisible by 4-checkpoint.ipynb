{
 "cells": [
  {
   "cell_type": "markdown",
   "id": "7480f849",
   "metadata": {},
   "source": [
    "### #. Write a code to find the sum of numbers divisible by 4.The code must allow the user to accept a number and add it to the sum if it is divisible by 4. It should continue accepting numbers as long as the user wants to provide an input and should display the final sum.\n"
   ]
  },
  {
   "cell_type": "code",
   "execution_count": 1,
   "id": "7e3beed6",
   "metadata": {},
   "outputs": [
    {
     "name": "stdout",
     "output_type": "stream",
     "text": [
      "Enter a number (press any non-numeric key to exit): e\n",
      "invalid literal for int() with base 10: 'e'\n",
      "Final sum (of numbers divisible by 4): 0\n"
     ]
    }
   ],
   "source": [
    "# method 1\n",
    "def sum_divisible_by_4():\n",
    "    res = 0\n",
    "    \n",
    "    while True:\n",
    "        try:\n",
    "            num = int(input('Enter a number (press any non-numeric key to exit): '))\n",
    "            if num % 4 == 0:\n",
    "                res += num\n",
    "        except ValueError as e:\n",
    "            print(e)\n",
    "            break\n",
    "    print(f'Final sum (of numbers divisible by 4): {res}')\n",
    "\n",
    "\n",
    "sum_divisible_by_4()\n",
    "\n"
   ]
  },
  {
   "cell_type": "code",
   "execution_count": 2,
   "id": "20ac49bc",
   "metadata": {},
   "outputs": [
    {
     "name": "stdout",
     "output_type": "stream",
     "text": [
      "Enter a number (press any non-numeric key to exit): \n",
      "Final sum (of all the numbers divisible by 4): 0\n"
     ]
    }
   ],
   "source": [
    "# method 2\n",
    "def sum_div_by_4():\n",
    "    \n",
    "    res = 0\n",
    "    \n",
    "    while True:\n",
    "        try:\n",
    "            num = int(input('Enter a number (press any non-numeric key to exit): '))\n",
    "            if num % 4 == 0:\n",
    "                res += num\n",
    "            print(res)\n",
    "        except ValueError:\n",
    "            break\n",
    "    print(f'Final sum (of all the numbers divisible by 4): {res}')\n",
    "\n",
    "\n",
    "sum_div_by_4()"
   ]
  },
  {
   "cell_type": "code",
   "execution_count": null,
   "id": "711bcb6d",
   "metadata": {},
   "outputs": [],
   "source": []
  }
 ],
 "metadata": {
  "kernelspec": {
   "display_name": "Python 3 (ipykernel)",
   "language": "python",
   "name": "python3"
  },
  "language_info": {
   "codemirror_mode": {
    "name": "ipython",
    "version": 3
   },
   "file_extension": ".py",
   "mimetype": "text/x-python",
   "name": "python",
   "nbconvert_exporter": "python",
   "pygments_lexer": "ipython3",
   "version": "3.10.12"
  }
 },
 "nbformat": 4,
 "nbformat_minor": 5
}
