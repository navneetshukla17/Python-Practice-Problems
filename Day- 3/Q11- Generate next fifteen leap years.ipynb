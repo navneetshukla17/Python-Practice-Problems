{
 "cells": [
  {
   "cell_type": "markdown",
   "id": "d3fb85c0",
   "metadata": {},
   "source": [
    "### #Write a Python program to generate the next 15 leap years starting from a given year. Populate the leap years into a list and display the list."
   ]
  },
  {
   "cell_type": "code",
   "execution_count": 1,
   "id": "9336ee0a",
   "metadata": {},
   "outputs": [
    {
     "name": "stdout",
     "output_type": "stream",
     "text": [
      "Enter a start year: 2024\n",
      "Enter number of years: 10\n",
      "Next 10 leap years starting from 2024 are:\n",
      "[2024, 2028, 2032, 2036, 2040, 2044, 2048, 2052, 2056, 2060]\n"
     ]
    }
   ],
   "source": [
    "def generate_leap_years(start_year, num_of_years):\n",
    "    leap_years = []\n",
    "    year = start_year\n",
    "    \n",
    "    while len(leap_years) < num_of_years:\n",
    "        if (year % 4 == 0 and year % 100 != 0) or (year % 400 == 0):\n",
    "            leap_years.append(year)\n",
    "        year += 1\n",
    "    return leap_years\n",
    "\n",
    "\n",
    "start_year = int(input('Enter a start year: '))\n",
    "num_of_year = int(input('Enter number of years: '))\n",
    "leap_years = generate_leap_years(start_year, num_of_year)\n",
    "print(f'Next {num_of_year} leap years starting from {start_year} are:')\n",
    "print(leap_years)"
   ]
  },
  {
   "cell_type": "code",
   "execution_count": null,
   "id": "a7983218",
   "metadata": {},
   "outputs": [],
   "source": []
  },
  {
   "cell_type": "code",
   "execution_count": null,
   "id": "8bfb3bca",
   "metadata": {},
   "outputs": [],
   "source": []
  },
  {
   "cell_type": "code",
   "execution_count": null,
   "id": "6e393dbd",
   "metadata": {},
   "outputs": [],
   "source": []
  }
 ],
 "metadata": {
  "kernelspec": {
   "display_name": "Python 3 (ipykernel)",
   "language": "python",
   "name": "python3"
  },
  "language_info": {
   "codemirror_mode": {
    "name": "ipython",
    "version": 3
   },
   "file_extension": ".py",
   "mimetype": "text/x-python",
   "name": "python",
   "nbconvert_exporter": "python",
   "pygments_lexer": "ipython3",
   "version": "3.10.12"
  }
 },
 "nbformat": 4,
 "nbformat_minor": 5
}
