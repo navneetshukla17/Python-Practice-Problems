{
 "cells": [
  {
   "cell_type": "markdown",
   "id": "6b3d20ba",
   "metadata": {},
   "source": [
    "#### # write a python function translate() that accepts the bilingual dictionary and a list of English word list"
   ]
  },
  {
   "cell_type": "code",
   "execution_count": 3,
   "id": "a9cd9c5e",
   "metadata": {},
   "outputs": [
    {
     "name": "stdout",
     "output_type": "stream",
     "text": [
      "The equivalent swedish words are: ['god', 'jul']\n"
     ]
    }
   ],
   "source": [
    "def translate(bilingual_dict, english_word_list):\n",
    "    swedish_word_list = []\n",
    "    \n",
    "    for i in english_word_list:\n",
    "        swedish_word_list.append(bilingual_dict[i])\n",
    "    return swedish_word_list\n",
    "\n",
    "bilingual_dict = {'merry':'god', 'christmas':'jul', 'and':'och', 'happy':'gott', 'new':'nytt', 'year':'ar'}\n",
    "english_word_list = ['merry', 'christmas']\n",
    "\n",
    "# Example usage:\n",
    "swedish_word_list = translate(bilingual_dict, english_word_list)\n",
    "print(f'The equivalent swedish words are: {swedish_word_list}')"
   ]
  }
 ],
 "metadata": {
  "kernelspec": {
   "display_name": "Python 3 (ipykernel)",
   "language": "python",
   "name": "python3"
  },
  "language_info": {
   "codemirror_mode": {
    "name": "ipython",
    "version": 3
   },
   "file_extension": ".py",
   "mimetype": "text/x-python",
   "name": "python",
   "nbconvert_exporter": "python",
   "pygments_lexer": "ipython3",
   "version": "3.10.12"
  }
 },
 "nbformat": 4,
 "nbformat_minor": 5
}
