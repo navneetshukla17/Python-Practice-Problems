{
 "cells": [
  {
   "cell_type": "code",
   "execution_count": 27,
   "id": "c3e3a7af",
   "metadata": {},
   "outputs": [
    {
     "name": "stdout",
     "output_type": "stream",
     "text": [
      "['AI:Ban:Lod:106', 'AI:Ban:Lod:107', 'AI:Ban:Lod:108', 'AI:Ban:Lod:109', 'AI:Ban:Lod:110']\n"
     ]
    }
   ],
   "source": [
    "def generate_ticket_number(airline, source, destination, passenger_count):\n",
    "    tickets = []\n",
    "    src = source[0:3].capitalize()\n",
    "    dest = destination[0:3].capitalize()\n",
    "    for i in range(1, passenger_count + 1):\n",
    "        ticket_number = f'{airline}:{src}:{dest}:{100 + i}'\n",
    "        tickets.append(ticket_number)\n",
    "    return tickets[-5:] if len(tickets) > 5 else tickets\n",
    "\n",
    "\n",
    "# Sample Input:\n",
    "airline = 'AI'\n",
    "source = 'banglore'\n",
    "destination = 'lodon'\n",
    "passenger_count = 10\n",
    "\n",
    "ticket_number = generate_ticket_number(airline, source, destination, passenger_count)\n",
    "print(ticket_number)"
   ]
  },
  {
   "cell_type": "code",
   "execution_count": null,
   "id": "e9ebb701",
   "metadata": {},
   "outputs": [],
   "source": []
  }
 ],
 "metadata": {
  "kernelspec": {
   "display_name": "Python 3 (ipykernel)",
   "language": "python",
   "name": "python3"
  },
  "language_info": {
   "codemirror_mode": {
    "name": "ipython",
    "version": 3
   },
   "file_extension": ".py",
   "mimetype": "text/x-python",
   "name": "python",
   "nbconvert_exporter": "python",
   "pygments_lexer": "ipython3",
   "version": "3.10.12"
  }
 },
 "nbformat": 4,
 "nbformat_minor": 5
}
