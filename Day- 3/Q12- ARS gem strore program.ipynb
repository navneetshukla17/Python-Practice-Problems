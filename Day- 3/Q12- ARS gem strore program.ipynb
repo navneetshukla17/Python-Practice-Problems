{
 "cells": [
  {
   "cell_type": "markdown",
   "id": "a2eb7382",
   "metadata": {},
   "source": [
    "ARS Gems Store sells different varieties of gems to its customers.\n",
    "Write a Python program to calculate the bill amount to be paid by a\n",
    "customer based on the list of gems and quantity purchased. Any purchase\n",
    "with a total bill amount above Rs.30000 is entitled to 5% discount. If any\n",
    "gem required by the customer is not available in the store, then consider\n",
    "total bill amount to be -1."
   ]
  },
  {
   "cell_type": "code",
   "execution_count": 20,
   "id": "ccbecd9a",
   "metadata": {},
   "outputs": [
    {
     "name": "stdout",
     "output_type": "stream",
     "text": [
      "Total bill amount: 68347.75\n"
     ]
    }
   ],
   "source": [
    "# Given data\n",
    "gems_list = ['Emerald', 'Ivory', 'Jasper', 'Ruby', 'Garnet']\n",
    "price_list = [1760, 2119, 1599, 3920, 3999]\n",
    "reqd_gems = ['Ivory', 'Emerald', 'Garnet']\n",
    "reqd_quantity = [3, 10, 12]\n",
    "\n",
    "def calculate_bill(gems_list, price_list, reqd_gems, reqd_quantity):\n",
    "    total_bill = 0\n",
    "    \n",
    "    for gem, quantity in zip(reqd_gems, reqd_quantity):\n",
    "        if gem in gems_list:\n",
    "            index = gems_list.index(gem)\n",
    "            total_bill += price_list[index] * quantity\n",
    "        else:\n",
    "            return -1\n",
    "    \n",
    "    if total_bill > 30000:\n",
    "        total_bill *= 0.95 # Apply 5% discount if the total bill is above RS. 30000\n",
    "    \n",
    "    return total_bill\n",
    "\n",
    "bill_amount = calculate_bill(gems_list, price_list, reqd_gems, reqd_quantity)\n",
    "print(f'Total bill amount: {bill_amount}')"
   ]
  },
  {
   "cell_type": "code",
   "execution_count": null,
   "id": "aaa8a0c7",
   "metadata": {},
   "outputs": [],
   "source": []
  }
 ],
 "metadata": {
  "kernelspec": {
   "display_name": "Python 3 (ipykernel)",
   "language": "python",
   "name": "python3"
  },
  "language_info": {
   "codemirror_mode": {
    "name": "ipython",
    "version": 3
   },
   "file_extension": ".py",
   "mimetype": "text/x-python",
   "name": "python",
   "nbconvert_exporter": "python",
   "pygments_lexer": "ipython3",
   "version": "3.10.12"
  }
 },
 "nbformat": 4,
 "nbformat_minor": 5
}
