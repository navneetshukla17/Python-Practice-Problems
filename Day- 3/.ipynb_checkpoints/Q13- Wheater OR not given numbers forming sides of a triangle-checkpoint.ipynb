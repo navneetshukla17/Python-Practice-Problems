{
 "cells": [
  {
   "cell_type": "markdown",
   "id": "77cae828",
   "metadata": {},
   "source": [
    "Write a python function to check whether three given numbers can form\n",
    "the sides of a triangle.\n",
    "Hint\n",
    ": Three numbers can be the sides of a triangle if none of the numbers are\n",
    "greater than or equal to the sum of the other two numbers."
   ]
  },
  {
   "cell_type": "code",
   "execution_count": 14,
   "id": "697203c8",
   "metadata": {},
   "outputs": [
    {
     "name": "stdout",
     "output_type": "stream",
     "text": [
      "Enter the value of A: 2\n",
      "Enter the value of B: 1\n",
      "Enter the value of C: 0\n",
      "\n",
      "It is not forming a Triangle\n"
     ]
    }
   ],
   "source": [
    "def is_triangle(a, b, c):\n",
    "    # Check if the sum of any two sides is greater than the third\n",
    "    return (a + b > c) and (b + c > a) and (a + c > b)\n",
    "\n",
    "# Example usage:\n",
    "try:\n",
    "    a, b, c = int(input('Enter the value of A: ')), int(input('Enter the value of B: ')), int(input('Enter the value of C: '))\n",
    "except ValueError:\n",
    "    print('Values must be Integer!')\n",
    "else:\n",
    "    if is_triangle(a, b, c):\n",
    "        print()\n",
    "        print('It is forming a Triangle')\n",
    "    else:\n",
    "        print()\n",
    "        print('It is not forming a Triangle')"
   ]
  },
  {
   "cell_type": "code",
   "execution_count": null,
   "id": "df666d74",
   "metadata": {},
   "outputs": [],
   "source": []
  }
 ],
 "metadata": {
  "kernelspec": {
   "display_name": "Python 3 (ipykernel)",
   "language": "python",
   "name": "python3"
  },
  "language_info": {
   "codemirror_mode": {
    "name": "ipython",
    "version": 3
   },
   "file_extension": ".py",
   "mimetype": "text/x-python",
   "name": "python",
   "nbconvert_exporter": "python",
   "pygments_lexer": "ipython3",
   "version": "3.10.12"
  }
 },
 "nbformat": 4,
 "nbformat_minor": 5
}
