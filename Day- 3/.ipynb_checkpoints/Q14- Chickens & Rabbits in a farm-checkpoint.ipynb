{
 "cells": [
  {
   "cell_type": "code",
   "execution_count": 1,
   "id": "0124c2da",
   "metadata": {},
   "outputs": [],
   "source": [
    "# C ==> Chickens, R ==> Rabbits & Chickens ==> 2 legs, Rabbits ==> 4 legs\n",
    "# C + R = 35 (Total number of heads)\n",
    "# 2C + 4R = 94 (Total number of legs)\n",
    "# We can solve this equations to find the values of C and R"
   ]
  },
  {
   "cell_type": "markdown",
   "id": "20f0ca60",
   "metadata": {},
   "source": [
    "Algebraic Solution:"
   ]
  },
  {
   "cell_type": "code",
   "execution_count": 2,
   "id": "8eb2a952",
   "metadata": {},
   "outputs": [
    {
     "name": "stdout",
     "output_type": "stream",
     "text": [
      "Number of Chickens are: 23\n",
      "Number of Rabbits are: 12\n"
     ]
    }
   ],
   "source": [
    "def solve_puzzel(no_of_heads, no_of_legs):\n",
    "    for c in range(no_of_heads + 1):\n",
    "        r = no_of_heads - c\n",
    "        if 2*c + 4*r == no_of_legs:\n",
    "            return c, r\n",
    "    return None, None\n",
    "\n",
    "\n",
    "def main():\n",
    "    no_of_heads, no_of_legs = 35, 94\n",
    "    \n",
    "    chickens, rabbits = solve_puzzel(no_of_heads, no_of_legs)\n",
    "    \n",
    "    if chickens is not None and rabbits is not None:\n",
    "        print(f'Number of Chickens are: {chickens}')\n",
    "        print(f'Number of Rabbits are: {rabbits}')\n",
    "    else:\n",
    "        print('No Solution!')\n",
    "\n",
    "if __name__ == '__main__':\n",
    "    main()"
   ]
  },
  {
   "cell_type": "markdown",
   "id": "f41654e0",
   "metadata": {},
   "source": [
    "Non-Algebraic Solution:"
   ]
  },
  {
   "cell_type": "code",
   "execution_count": 6,
   "id": "5f12e358",
   "metadata": {},
   "outputs": [
    {
     "name": "stdout",
     "output_type": "stream",
     "text": [
      "Enter number of heads: 0\n",
      "Enter number of legs: 0\n",
      "Invalid Input!\n"
     ]
    }
   ],
   "source": [
    "total_heads = int(input('Enter number of heads: '))\n",
    "total_legs = int(input('Enter number of legs: '))\n",
    "\n",
    "if total_legs < total_heads or total_legs == 0 or total_heads == 0 or total_legs % 2 != 0:\n",
    "    print('Invalid Input!')\n",
    "    exit()\n",
    "else:\n",
    "    rabbits = (total_legs - (2 * total_heads)) // 2 # formula for 4 leg animals\n",
    "    chickens = total_heads - rabbits # formula for 2 leg animals\n",
    "    print(f'Number of Chickens in the farm are: {chickens}')\n",
    "    print(f'Number of Rabbits in the farm are: {rabbits}')"
   ]
  },
  {
   "cell_type": "code",
   "execution_count": null,
   "id": "943653de",
   "metadata": {},
   "outputs": [],
   "source": []
  }
 ],
 "metadata": {
  "kernelspec": {
   "display_name": "Python 3 (ipykernel)",
   "language": "python",
   "name": "python3"
  },
  "language_info": {
   "codemirror_mode": {
    "name": "ipython",
    "version": 3
   },
   "file_extension": ".py",
   "mimetype": "text/x-python",
   "name": "python",
   "nbconvert_exporter": "python",
   "pygments_lexer": "ipython3",
   "version": "3.10.12"
  }
 },
 "nbformat": 4,
 "nbformat_minor": 5
}
