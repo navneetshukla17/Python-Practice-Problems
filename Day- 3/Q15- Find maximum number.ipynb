{
 "cells": [
  {
   "cell_type": "code",
   "execution_count": 16,
   "id": "302f4d3a",
   "metadata": {},
   "outputs": [
    {
     "name": "stdout",
     "output_type": "stream",
     "text": [
      "Enter num1: 3\n",
      "Enter num2: 3\n"
     ]
    }
   ],
   "source": [
    "def is_valid(num):\n",
    "    # Check if the number satisfies all the conditions.\n",
    "    return num % 5 == 0 and 10<= num <= 99 and sum(int(digit) for digit in str(digit) % 3 == 0)\n",
    "\n",
    "def find_max_num(num1, num2):\n",
    "    # Check if num1 is less than num2\n",
    "    if num1 < num2:\n",
    "        return -1\n",
    "    \n",
    "    valid_number = [num for num in range(num1, num2 + 1) if is_valid(num)]\n",
    "    \n",
    "    if valid_number:\n",
    "        return max(valid_number)\n",
    "    else:\n",
    "        return -1\n",
    "\n",
    "# Example usage:\n",
    "num1 = int(input('Enter num1: '))\n",
    "num2 = int(input('Enter num2: '))\n",
    "result = find_max_num(num1, num2)\n"
   ]
  },
  {
   "cell_type": "code",
   "execution_count": null,
   "id": "9799b932",
   "metadata": {},
   "outputs": [],
   "source": []
  }
 ],
 "metadata": {
  "kernelspec": {
   "display_name": "Python 3 (ipykernel)",
   "language": "python",
   "name": "python3"
  },
  "language_info": {
   "codemirror_mode": {
    "name": "ipython",
    "version": 3
   },
   "file_extension": ".py",
   "mimetype": "text/x-python",
   "name": "python",
   "nbconvert_exporter": "python",
   "pygments_lexer": "ipython3",
   "version": "3.10.12"
  }
 },
 "nbformat": 4,
 "nbformat_minor": 5
}
